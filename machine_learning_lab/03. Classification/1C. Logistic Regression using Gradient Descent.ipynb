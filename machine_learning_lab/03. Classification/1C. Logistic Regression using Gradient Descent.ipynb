{
 "cells": [
  {
   "cell_type": "markdown",
   "metadata": {},
   "source": [
    "<img src=\"../logo.png\",width=200,height=60>\n"
   ]
  },
  {
   "cell_type": "code",
   "execution_count": 9,
   "metadata": {},
   "outputs": [
    {
     "data": {
      "text/html": [
       "<div>\n",
       "<style>\n",
       "    .dataframe thead tr:only-child th {\n",
       "        text-align: right;\n",
       "    }\n",
       "\n",
       "    .dataframe thead th {\n",
       "        text-align: left;\n",
       "    }\n",
       "\n",
       "    .dataframe tbody tr th {\n",
       "        vertical-align: top;\n",
       "    }\n",
       "</style>\n",
       "<table border=\"1\" class=\"dataframe\">\n",
       "  <thead>\n",
       "    <tr style=\"text-align: right;\">\n",
       "      <th></th>\n",
       "      <th>exam1</th>\n",
       "      <th>exam2</th>\n",
       "      <th>y</th>\n",
       "    </tr>\n",
       "  </thead>\n",
       "  <tbody>\n",
       "    <tr>\n",
       "      <th>0</th>\n",
       "      <td>34.623660</td>\n",
       "      <td>78.024693</td>\n",
       "      <td>0</td>\n",
       "    </tr>\n",
       "    <tr>\n",
       "      <th>1</th>\n",
       "      <td>30.286711</td>\n",
       "      <td>43.894998</td>\n",
       "      <td>0</td>\n",
       "    </tr>\n",
       "    <tr>\n",
       "      <th>2</th>\n",
       "      <td>35.847409</td>\n",
       "      <td>72.902198</td>\n",
       "      <td>0</td>\n",
       "    </tr>\n",
       "    <tr>\n",
       "      <th>3</th>\n",
       "      <td>60.182599</td>\n",
       "      <td>86.308552</td>\n",
       "      <td>1</td>\n",
       "    </tr>\n",
       "    <tr>\n",
       "      <th>4</th>\n",
       "      <td>79.032736</td>\n",
       "      <td>75.344376</td>\n",
       "      <td>1</td>\n",
       "    </tr>\n",
       "  </tbody>\n",
       "</table>\n",
       "</div>"
      ],
      "text/plain": [
       "       exam1      exam2  y\n",
       "0  34.623660  78.024693  0\n",
       "1  30.286711  43.894998  0\n",
       "2  35.847409  72.902198  0\n",
       "3  60.182599  86.308552  1\n",
       "4  79.032736  75.344376  1"
      ]
     },
     "execution_count": 9,
     "metadata": {},
     "output_type": "execute_result"
    }
   ],
   "source": [
    "from __future__ import division\n",
    "import numpy as np\n",
    "import matplotlib.pyplot as plt\n",
    "import pandas as pd\n",
    "\n",
    "from scipy.optimize import minimize\n",
    "\n",
    "df = pd.read_csv('machine_learning_andrewng/ex2data1.csv', header=None)\n",
    "df.rename(columns={0: 'exam1', 1: 'exam2', 2: 'y'}, inplace=True)\n",
    "df.head()"
   ]
  },
  {
   "cell_type": "code",
   "execution_count": 10,
   "metadata": {},
   "outputs": [
    {
     "data": {
      "image/png": "[encoded data removed]",
      "text/plain": [
       "<matplotlib.figure.Figure at 0x7f861e511438>"
      ]
     },
     "metadata": {},
     "output_type": "display_data"
    }
   ],
   "source": [
    "fig = plt.figure(figsize=(12, 8))\n",
    "plt.scatter(df[df['y'] == 0]['exam1'], df[df['y'] == 0]['exam2'],\n",
    "            label='Not admitted', color='yellow', edgecolor='black')\n",
    "plt.scatter(df[df['y'] == 1]['exam1'], df[df['y'] == 1]['exam2'],\n",
    "            label='Admitted', marker='+', color='black')\n",
    "plt.xlabel('Exam 1 score')\n",
    "plt.ylabel('Exam 2 score')\n",
    "plt.legend(loc='upper right')\n",
    "plt.title('Scores indicating admission')\n",
    "plt.show()"
   ]
  },
  {
   "cell_type": "code",
   "execution_count": 11,
   "metadata": {},
   "outputs": [],
   "source": [
    "class LogisticRegression(object):\n",
    "    def __init__(self, X, y, alpha=0.001, n_iterations=5000):\n",
    "        self.X = self._hstack_one(X)\n",
    "        self.y = y\n",
    "        self.thetas = np.zeros((self.X.shape[1]))\n",
    "        self.n_rows = self.X.shape[0]\n",
    "        self.alpha = alpha\n",
    "        self.n_iterations = n_iterations\n",
    "        print(\"Cost before fitting: {0:4f}\".format(self.cost()))\n",
    "\n",
    "    @staticmethod\n",
    "    def _hstack_one(input_matrix):\n",
    "        if len(input_matrix.shape) == 1:\n",
    "            return np.hstack((np.array([1]), input_matrix))\n",
    "        else:\n",
    "            return np.hstack(\n",
    "                (np.ones((input_matrix.shape[0], 1)), input_matrix))\n",
    "\n",
    "    @staticmethod\n",
    "    def sigmoid(X):\n",
    "        return 1 / (1 + np.exp(-X))\n",
    "\n",
    "    def cost(self, thetas=None):\n",
    "        if thetas is None:\n",
    "            thetas = self.thetas\n",
    "        dot_prod = self.X.dot(thetas)\n",
    "        dot_prod_pos = dot_prod[self.y == 1]\n",
    "        dot_prod_neg = dot_prod[self.y == 0]\n",
    "        cost = -(1 / self.n_rows) \\\n",
    "               * (np.sum(np.log(self.sigmoid(dot_prod_pos))) \n",
    "                  + np.sum(np.log(1 - self.sigmoid(dot_prod_neg))))\n",
    "        return cost\n",
    "\n",
    "    def predict(self, new_X, threshold=0.5):\n",
    "        assert new_X.shape[0] != self.X.shape[1], \\\n",
    "            \"Number of features don't match. {0} != {1}\"\\\n",
    "                .format(new_X.shape[1], self.X.shape[1])\n",
    "        new_X = self._hstack_one(new_X)\n",
    "        h = new_X.dot(self.thetas)\n",
    "        return self.sigmoid(h) >= threshold\n",
    "\n",
    "    def batch_gradient(self, thetas=None):\n",
    "        if thetas is None:\n",
    "            thetas = self.thetas\n",
    "        h = self.sigmoid(self.X.dot(thetas)) - self.y\n",
    "        h = np.multiply(self.X, h.reshape(-1, 1))\n",
    "        h = np.sum(h, axis=0)\n",
    "        return h\n",
    "\n",
    "    def batch_gradient_descent(self, ):\n",
    "        alpha_by_m = self.alpha / self.n_rows\n",
    "        for i in range(self.n_iterations):\n",
    "            self.thetas = self.thetas - (alpha_by_m * self.batch_gradient())\n",
    "            cost = self.cost()\n",
    "            print(\"\\rIteration: {0} Loss: {1:.5f}\".format(i + 1, cost) + \"\")\n",
    "        print\n",
    "\n",
    "    def scipy_optimize(self, ):\n",
    "        result = minimize(self.cost, self.thetas, jac=self.batch_gradient,\n",
    "                          options={'maxiter': self.n_iterations})\n",
    "        print(result)\n",
    "        self.thetas = result.x"
   ]
  },
  {
   "cell_type": "code",
   "execution_count": 13,
   "metadata": {
    "scrolled": true
   },
   "outputs": [
    {
     "name": "stdout",
     "output_type": "stream",
     "text": [
      "Cost before fitting: 0.693147\n",
      "      fun: 0.20349770159875014\n",
      " hess_inv: array([[ 2.23242194e+01, -1.80811824e-01, -1.92839958e-01],\n",
      "       [-1.80811824e-01,  1.53480255e-03,  1.49837589e-03],\n",
      "       [-1.92839958e-01,  1.49837589e-03,  1.73637715e-03]])\n",
      "      jac: array([-1.21664528e-06, -7.91537338e-05, -8.39771285e-05])\n",
      "  message: 'Desired error not necessarily achieved due to precision loss.'\n",
      "     nfev: 302\n",
      "      nit: 72\n",
      "     njev: 285\n",
      "   status: 2\n",
      "  success: False\n",
      "        x: array([-25.16133034,   0.20623169,   0.20147157])\n",
      "Cost after converging: 0.203\n"
     ]
    },
    {
     "name": "stderr",
     "output_type": "stream",
     "text": [
      "/home/xenonstack/anaconda3/lib/python3.6/site-packages/ipykernel_launcher.py:30: RuntimeWarning: divide by zero encountered in log\n",
      "/home/xenonstack/anaconda3/lib/python3.6/site-packages/ipykernel_launcher.py:30: RuntimeWarning: divide by zero encountered in log\n"
     ]
    }
   ],
   "source": [
    "lr = LogisticRegression(df[['exam1', 'exam2']].values, df['y'].values, n_iterations=20000, alpha=0.001)\n",
    "optim_theta = lr.scipy_optimize()\n",
    "print(\"Cost after converging: {0:.3f}\".format(lr.cost()))"
   ]
  },
  {
   "cell_type": "code",
   "execution_count": 14,
   "metadata": {},
   "outputs": [
    {
     "data": {
      "image/png": "[encoded data removed]",
      "text/plain": [
       "<matplotlib.figure.Figure at 0x7f861e46c588>"
      ]
     },
     "metadata": {},
     "output_type": "display_data"
    }
   ],
   "source": [
    "# Plotting the prediction line\n",
    "col1 = \"exam1\"\n",
    "col2 = \"exam2\"\n",
    "min_ex1 = df[col1].min()\n",
    "max_ex1 = df[col1].max()\n",
    "\n",
    "min_ex2 = df[col2].min()\n",
    "max_ex2 = df[col2].max()\n",
    "\n",
    "arange_step = 0.1\n",
    "\n",
    "xx, yy = np.meshgrid(np.arange(min_ex1, max_ex1, arange_step), \n",
    "                     np.arange(min_ex2, max_ex2, arange_step))\n",
    "preds = np.c_[xx.ravel(), yy.ravel()]\n",
    "preds = lr.predict(preds)\n",
    "preds = preds.reshape(xx.shape)\n",
    "fig = plt.figure(figsize=(12, 8))\n",
    "plt.scatter(df[df['y'] == 0][col1], df[df['y'] == 0][col2],\n",
    "            label='Not admitted', color='yellow', edgecolor='black')\n",
    "plt.scatter(df[df['y'] == 1][col1], df[df['y'] == 1][col2],\n",
    "            label='Admitted', marker='+', color='black')\n",
    "plt.contour(xx, yy, preds, colors='blue')\n",
    "plt.xlabel('Exam 1 score')\n",
    "plt.ylabel('Exam 2 score')\n",
    "plt.legend(loc='upper right')\n",
    "plt.title('Scores indicating admission')\n",
    "plt.show()"
   ]
  },
  {
   "cell_type": "markdown",
   "metadata": {},
   "source": [
    "<p>&copy; 2018 Stacklabs<p>\n"
   ]
  }
 ],
 "metadata": {
  "anaconda-cloud": {},
  "kernelspec": {
   "display_name": "Python 3",
   "language": "python",
   "name": "python3"
  },
  "language_info": {
   "codemirror_mode": {
    "name": "ipython",
    "version": 3
   },
   "file_extension": ".py",
   "mimetype": "text/x-python",
   "name": "python",
   "nbconvert_exporter": "python",
   "pygments_lexer": "ipython3",
   "version": "3.6.3"
  }
 },
 "nbformat": 4,
 "nbformat_minor": 2
}
