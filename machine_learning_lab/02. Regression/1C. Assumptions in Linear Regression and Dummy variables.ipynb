{
 "cells": [
  {
   "cell_type": "markdown",
   "metadata": {},
   "source": [
    "<img src=\"../logo.png\" alt=\"Drawing\" style=\"width: 200px;\"/>"
   ]
  },
  {
   "cell_type": "markdown",
   "metadata": {
    "nbpresent": {
     "id": "9e327d62-efa8-42da-a466-3807c60e7b68"
    }
   },
   "source": [
    "### Assumptions in Linear Regression:\n",
    "\n",
    "#### 1. Normally distributed Residuals\n",
    "Residuals should be normally distributed. This can be checked using histogram of residuals\n",
    "\n",
    "#### 2. Little to no Multicollinearity \n",
    "Multiple regression assumes that the independent variables are not highly correlated with each other.  This assumption is tested using Variance Inflation Factor (VIF) values. One way to deal with multicollinearity is subtracting mean. \n",
    "\n",
    "#### 3. Homoscedasticity\n",
    "This assumption states that the variance of error terms are similar across the values of the independent variables.  A plot of standardized residuals versus predicted values can show whether points are equally distributed across all values of the independent variables.\n",
    "\n",
    "### Dummy variable trap\n",
    "This occurs when there is redundant information due to OneHotEncoder. Eg if there are two cities, New York and California, then a since City_New_York with value 0 or 1 is enough to preserve the information. If you make two columns City_New_York and City_California then both will portray same information, just opposite values. This introduces multicollinearity. When there are many unrelated featueres, the model can learn a lot from those. But when there are less features, then the model will be unstable and will undergo huge changes with little change in input value.\n",
    "\n",
    "#### Dummy variable trap can be avoided by dropping one feature off every subset of dummy variables. "
   ]
  },
  {
   "cell_type": "code",
   "execution_count": 5,
   "metadata": {
    "nbpresent": {
     "id": "b3febd39-abda-4a7b-a1f5-3b88c4c79de1"
    }
   },
   "outputs": [
    {
     "data": {
      "text/html": [
       "<div>\n",
       "<style>\n",
       "    .dataframe thead tr:only-child th {\n",
       "        text-align: right;\n",
       "    }\n",
       "\n",
       "    .dataframe thead th {\n",
       "        text-align: left;\n",
       "    }\n",
       "\n",
       "    .dataframe tbody tr th {\n",
       "        vertical-align: top;\n",
       "    }\n",
       "</style>\n",
       "<table border=\"1\" class=\"dataframe\">\n",
       "  <thead>\n",
       "    <tr style=\"text-align: right;\">\n",
       "      <th></th>\n",
       "      <th>0</th>\n",
       "      <th>1</th>\n",
       "      <th>2</th>\n",
       "      <th>3</th>\n",
       "      <th>4</th>\n",
       "      <th>5</th>\n",
       "      <th>6</th>\n",
       "      <th>7</th>\n",
       "      <th>8</th>\n",
       "      <th>9</th>\n",
       "      <th>10</th>\n",
       "      <th>11</th>\n",
       "      <th>12</th>\n",
       "      <th>13</th>\n",
       "      <th>14</th>\n",
       "      <th>15</th>\n",
       "      <th>16</th>\n",
       "      <th>17</th>\n",
       "      <th>18</th>\n",
       "      <th>19</th>\n",
       "    </tr>\n",
       "  </thead>\n",
       "  <tbody>\n",
       "    <tr>\n",
       "      <th>0</th>\n",
       "      <td>1.202706</td>\n",
       "      <td>0.735514</td>\n",
       "      <td>-0.047838</td>\n",
       "      <td>-2.187794</td>\n",
       "      <td>0.839496</td>\n",
       "      <td>-0.304576</td>\n",
       "      <td>-0.896021</td>\n",
       "      <td>-0.077566</td>\n",
       "      <td>0.189385</td>\n",
       "      <td>-0.915344</td>\n",
       "      <td>-0.336090</td>\n",
       "      <td>0.641887</td>\n",
       "      <td>-2.130446</td>\n",
       "      <td>0.413751</td>\n",
       "      <td>0.703817</td>\n",
       "      <td>-0.417254</td>\n",
       "      <td>-1.524003</td>\n",
       "      <td>0.852331</td>\n",
       "      <td>-0.601299</td>\n",
       "      <td>-0.633775</td>\n",
       "    </tr>\n",
       "    <tr>\n",
       "      <th>1</th>\n",
       "      <td>-1.010311</td>\n",
       "      <td>0.593582</td>\n",
       "      <td>1.288254</td>\n",
       "      <td>-0.064443</td>\n",
       "      <td>0.739357</td>\n",
       "      <td>-0.297783</td>\n",
       "      <td>1.909916</td>\n",
       "      <td>1.160308</td>\n",
       "      <td>0.548023</td>\n",
       "      <td>-1.319249</td>\n",
       "      <td>0.466051</td>\n",
       "      <td>-0.035059</td>\n",
       "      <td>-0.997320</td>\n",
       "      <td>-1.563429</td>\n",
       "      <td>1.494439</td>\n",
       "      <td>-1.278499</td>\n",
       "      <td>-1.363314</td>\n",
       "      <td>1.736244</td>\n",
       "      <td>1.114452</td>\n",
       "      <td>0.320424</td>\n",
       "    </tr>\n",
       "    <tr>\n",
       "      <th>2</th>\n",
       "      <td>0.484955</td>\n",
       "      <td>-0.779991</td>\n",
       "      <td>-0.126014</td>\n",
       "      <td>-0.777282</td>\n",
       "      <td>0.258963</td>\n",
       "      <td>1.402295</td>\n",
       "      <td>-0.363904</td>\n",
       "      <td>-0.177925</td>\n",
       "      <td>-0.054856</td>\n",
       "      <td>-0.727496</td>\n",
       "      <td>1.672051</td>\n",
       "      <td>-0.261492</td>\n",
       "      <td>0.573812</td>\n",
       "      <td>-0.526030</td>\n",
       "      <td>0.099938</td>\n",
       "      <td>-1.606118</td>\n",
       "      <td>1.058471</td>\n",
       "      <td>-0.904352</td>\n",
       "      <td>0.449558</td>\n",
       "      <td>-0.800786</td>\n",
       "    </tr>\n",
       "    <tr>\n",
       "      <th>3</th>\n",
       "      <td>-1.208900</td>\n",
       "      <td>0.236642</td>\n",
       "      <td>-1.223117</td>\n",
       "      <td>1.135559</td>\n",
       "      <td>-1.091638</td>\n",
       "      <td>-0.091871</td>\n",
       "      <td>-1.461505</td>\n",
       "      <td>1.239335</td>\n",
       "      <td>-0.627592</td>\n",
       "      <td>0.610811</td>\n",
       "      <td>-1.410274</td>\n",
       "      <td>-0.248248</td>\n",
       "      <td>-0.661891</td>\n",
       "      <td>0.870438</td>\n",
       "      <td>-0.418420</td>\n",
       "      <td>-0.024334</td>\n",
       "      <td>0.442011</td>\n",
       "      <td>0.095342</td>\n",
       "      <td>1.930432</td>\n",
       "      <td>0.220077</td>\n",
       "    </tr>\n",
       "    <tr>\n",
       "      <th>4</th>\n",
       "      <td>0.264262</td>\n",
       "      <td>1.178100</td>\n",
       "      <td>0.059360</td>\n",
       "      <td>-0.403637</td>\n",
       "      <td>-0.146125</td>\n",
       "      <td>0.308881</td>\n",
       "      <td>-1.685824</td>\n",
       "      <td>0.951776</td>\n",
       "      <td>-0.315455</td>\n",
       "      <td>-1.347757</td>\n",
       "      <td>0.222088</td>\n",
       "      <td>-1.343091</td>\n",
       "      <td>0.387767</td>\n",
       "      <td>-0.759524</td>\n",
       "      <td>-0.140715</td>\n",
       "      <td>-0.141428</td>\n",
       "      <td>1.368421</td>\n",
       "      <td>0.172622</td>\n",
       "      <td>1.982343</td>\n",
       "      <td>1.073556</td>\n",
       "    </tr>\n",
       "  </tbody>\n",
       "</table>\n",
       "</div>"
      ],
      "text/plain": [
       "         0         1         2         3         4         5         6   \\\n",
       "0  1.202706  0.735514 -0.047838 -2.187794  0.839496 -0.304576 -0.896021   \n",
       "1 -1.010311  0.593582  1.288254 -0.064443  0.739357 -0.297783  1.909916   \n",
       "2  0.484955 -0.779991 -0.126014 -0.777282  0.258963  1.402295 -0.363904   \n",
       "3 -1.208900  0.236642 -1.223117  1.135559 -1.091638 -0.091871 -1.461505   \n",
       "4  0.264262  1.178100  0.059360 -0.403637 -0.146125  0.308881 -1.685824   \n",
       "\n",
       "         7         8         9         10        11        12        13  \\\n",
       "0 -0.077566  0.189385 -0.915344 -0.336090  0.641887 -2.130446  0.413751   \n",
       "1  1.160308  0.548023 -1.319249  0.466051 -0.035059 -0.997320 -1.563429   \n",
       "2 -0.177925 -0.054856 -0.727496  1.672051 -0.261492  0.573812 -0.526030   \n",
       "3  1.239335 -0.627592  0.610811 -1.410274 -0.248248 -0.661891  0.870438   \n",
       "4  0.951776 -0.315455 -1.347757  0.222088 -1.343091  0.387767 -0.759524   \n",
       "\n",
       "         14        15        16        17        18        19  \n",
       "0  0.703817 -0.417254 -1.524003  0.852331 -0.601299 -0.633775  \n",
       "1  1.494439 -1.278499 -1.363314  1.736244  1.114452  0.320424  \n",
       "2  0.099938 -1.606118  1.058471 -0.904352  0.449558 -0.800786  \n",
       "3 -0.418420 -0.024334  0.442011  0.095342  1.930432  0.220077  \n",
       "4 -0.140715 -0.141428  1.368421  0.172622  1.982343  1.073556  "
      ]
     },
     "execution_count": 5,
     "metadata": {},
     "output_type": "execute_result"
    }
   ],
   "source": [
    "import numpy as np\n",
    "import pandas as pd\n",
    "\n",
    "from sklearn.datasets import make_regression\n",
    "from sklearn.linear_model import LinearRegression\n",
    "from sklearn.model_selection import cross_val_score\n",
    "\n",
    "# Create made up regression dataset\n",
    "X, y = make_regression(n_samples=100, n_features=20, noise=0.95)\n",
    "# Create a table to view it\n",
    "df = pd.DataFrame(X)\n",
    "df.head()"
   ]
  },
  {
   "cell_type": "markdown",
   "metadata": {
    "nbpresent": {
     "id": "c05a93bc-30ac-466d-834f-d9c358572f70"
    }
   },
   "source": [
    "### Results on a dataset with no multicollinearity"
   ]
  },
  {
   "cell_type": "code",
   "execution_count": 6,
   "metadata": {
    "nbpresent": {
     "id": "b5e4ee25-b9b2-4e8b-ac5f-da8da9f5cb95"
    }
   },
   "outputs": [
    {
     "name": "stdout",
     "output_type": "stream",
     "text": [
      "Mean: 0.9999355901283936\n",
      "Values: [0.99996062 0.99990841 0.99994439 0.99978415 0.99994816 0.99996504\n",
      " 0.99994635 0.99996064 0.99997748 0.99996068]\n"
     ]
    }
   ],
   "source": [
    "# Cross Validation will fit the classifier N number of times\n",
    "# and display the accuracies\n",
    "cv = cross_val_score(LinearRegression(), X, y, cv=10)\n",
    "print(\"Mean: {}\".format(cv.mean()))\n",
    "print(\"Values: {}\".format(cv))"
   ]
  },
  {
   "cell_type": "code",
   "execution_count": 7,
   "metadata": {
    "nbpresent": {
     "id": "921bad8d-59a3-4d6e-b2dc-ef6e8bcb24bb"
    }
   },
   "outputs": [
    {
     "data": {
      "text/html": [
       "<div>\n",
       "<style>\n",
       "    .dataframe thead tr:only-child th {\n",
       "        text-align: right;\n",
       "    }\n",
       "\n",
       "    .dataframe thead th {\n",
       "        text-align: left;\n",
       "    }\n",
       "\n",
       "    .dataframe tbody tr th {\n",
       "        vertical-align: top;\n",
       "    }\n",
       "</style>\n",
       "<table border=\"1\" class=\"dataframe\">\n",
       "  <thead>\n",
       "    <tr style=\"text-align: right;\">\n",
       "      <th></th>\n",
       "      <th>0</th>\n",
       "      <th>1</th>\n",
       "      <th>2</th>\n",
       "      <th>3</th>\n",
       "      <th>4</th>\n",
       "      <th>5</th>\n",
       "      <th>6</th>\n",
       "      <th>7</th>\n",
       "      <th>8</th>\n",
       "      <th>9</th>\n",
       "      <th>10</th>\n",
       "      <th>11</th>\n",
       "      <th>12</th>\n",
       "      <th>13</th>\n",
       "      <th>14</th>\n",
       "      <th>15</th>\n",
       "      <th>16</th>\n",
       "      <th>17</th>\n",
       "      <th>18</th>\n",
       "      <th>19</th>\n",
       "    </tr>\n",
       "  </thead>\n",
       "  <tbody>\n",
       "    <tr>\n",
       "      <th>0</th>\n",
       "      <td>-0.023856</td>\n",
       "      <td>0.001896</td>\n",
       "      <td>-0.035178</td>\n",
       "      <td>0.010965</td>\n",
       "      <td>-0.041505</td>\n",
       "      <td>-0.005586</td>\n",
       "      <td>0.028241</td>\n",
       "      <td>0.045420</td>\n",
       "      <td>-0.029781</td>\n",
       "      <td>0.003428</td>\n",
       "      <td>0.009678</td>\n",
       "      <td>-0.007403</td>\n",
       "      <td>0.044065</td>\n",
       "      <td>0.015491</td>\n",
       "      <td>0.002831</td>\n",
       "      <td>0.016153</td>\n",
       "      <td>-0.032155</td>\n",
       "      <td>-0.003927</td>\n",
       "      <td>-0.016608</td>\n",
       "      <td>-0.044117</td>\n",
       "    </tr>\n",
       "    <tr>\n",
       "      <th>1</th>\n",
       "      <td>-0.003616</td>\n",
       "      <td>0.005709</td>\n",
       "      <td>-0.033838</td>\n",
       "      <td>-0.007398</td>\n",
       "      <td>0.007179</td>\n",
       "      <td>-0.000807</td>\n",
       "      <td>0.020536</td>\n",
       "      <td>0.032949</td>\n",
       "      <td>-0.002037</td>\n",
       "      <td>0.014506</td>\n",
       "      <td>0.046745</td>\n",
       "      <td>0.006286</td>\n",
       "      <td>0.014733</td>\n",
       "      <td>-0.003404</td>\n",
       "      <td>-0.008365</td>\n",
       "      <td>0.040983</td>\n",
       "      <td>0.016354</td>\n",
       "      <td>-0.020426</td>\n",
       "      <td>-0.014689</td>\n",
       "      <td>-0.031964</td>\n",
       "    </tr>\n",
       "    <tr>\n",
       "      <th>2</th>\n",
       "      <td>-0.041412</td>\n",
       "      <td>0.010144</td>\n",
       "      <td>-0.022963</td>\n",
       "      <td>-0.029249</td>\n",
       "      <td>-0.009652</td>\n",
       "      <td>-0.069712</td>\n",
       "      <td>0.047599</td>\n",
       "      <td>0.058922</td>\n",
       "      <td>-0.036025</td>\n",
       "      <td>0.011588</td>\n",
       "      <td>0.018672</td>\n",
       "      <td>0.012359</td>\n",
       "      <td>-0.049443</td>\n",
       "      <td>-0.004176</td>\n",
       "      <td>0.042588</td>\n",
       "      <td>-0.068628</td>\n",
       "      <td>0.011878</td>\n",
       "      <td>0.026099</td>\n",
       "      <td>0.005610</td>\n",
       "      <td>-0.054352</td>\n",
       "    </tr>\n",
       "    <tr>\n",
       "      <th>3</th>\n",
       "      <td>-0.009332</td>\n",
       "      <td>-0.011395</td>\n",
       "      <td>-0.036991</td>\n",
       "      <td>-0.023522</td>\n",
       "      <td>0.030445</td>\n",
       "      <td>0.047535</td>\n",
       "      <td>-0.001719</td>\n",
       "      <td>-0.014462</td>\n",
       "      <td>0.065454</td>\n",
       "      <td>0.000787</td>\n",
       "      <td>0.014055</td>\n",
       "      <td>-0.026952</td>\n",
       "      <td>0.040762</td>\n",
       "      <td>0.010221</td>\n",
       "      <td>0.081079</td>\n",
       "      <td>0.037464</td>\n",
       "      <td>-0.050339</td>\n",
       "      <td>0.056508</td>\n",
       "      <td>-0.002087</td>\n",
       "      <td>-0.030048</td>\n",
       "    </tr>\n",
       "    <tr>\n",
       "      <th>4</th>\n",
       "      <td>-0.085392</td>\n",
       "      <td>0.030378</td>\n",
       "      <td>0.013877</td>\n",
       "      <td>-0.008270</td>\n",
       "      <td>-0.051678</td>\n",
       "      <td>-0.087146</td>\n",
       "      <td>0.039542</td>\n",
       "      <td>0.067297</td>\n",
       "      <td>-0.045545</td>\n",
       "      <td>0.012721</td>\n",
       "      <td>-0.033489</td>\n",
       "      <td>0.006855</td>\n",
       "      <td>-0.059881</td>\n",
       "      <td>0.018910</td>\n",
       "      <td>0.020875</td>\n",
       "      <td>-0.035731</td>\n",
       "      <td>0.005325</td>\n",
       "      <td>0.029263</td>\n",
       "      <td>0.038071</td>\n",
       "      <td>-0.069311</td>\n",
       "    </tr>\n",
       "  </tbody>\n",
       "</table>\n",
       "</div>"
      ],
      "text/plain": [
       "         0         1         2         3         4         5         6   \\\n",
       "0 -0.023856  0.001896 -0.035178  0.010965 -0.041505 -0.005586  0.028241   \n",
       "1 -0.003616  0.005709 -0.033838 -0.007398  0.007179 -0.000807  0.020536   \n",
       "2 -0.041412  0.010144 -0.022963 -0.029249 -0.009652 -0.069712  0.047599   \n",
       "3 -0.009332 -0.011395 -0.036991 -0.023522  0.030445  0.047535 -0.001719   \n",
       "4 -0.085392  0.030378  0.013877 -0.008270 -0.051678 -0.087146  0.039542   \n",
       "\n",
       "         7         8         9         10        11        12        13  \\\n",
       "0  0.045420 -0.029781  0.003428  0.009678 -0.007403  0.044065  0.015491   \n",
       "1  0.032949 -0.002037  0.014506  0.046745  0.006286  0.014733 -0.003404   \n",
       "2  0.058922 -0.036025  0.011588  0.018672  0.012359 -0.049443 -0.004176   \n",
       "3 -0.014462  0.065454  0.000787  0.014055 -0.026952  0.040762  0.010221   \n",
       "4  0.067297 -0.045545  0.012721 -0.033489  0.006855 -0.059881  0.018910   \n",
       "\n",
       "         14        15        16        17        18        19  \n",
       "0  0.002831  0.016153 -0.032155 -0.003927 -0.016608 -0.044117  \n",
       "1 -0.008365  0.040983  0.016354 -0.020426 -0.014689 -0.031964  \n",
       "2  0.042588 -0.068628  0.011878  0.026099  0.005610 -0.054352  \n",
       "3  0.081079  0.037464 -0.050339  0.056508 -0.002087 -0.030048  \n",
       "4  0.020875 -0.035731  0.005325  0.029263  0.038071 -0.069311  "
      ]
     },
     "execution_count": 7,
     "metadata": {},
     "output_type": "execute_result"
    }
   ],
   "source": [
    "# Create the dataset once again. This time, introduce high\n",
    "# multicollinearity by setting low rank to the input matrix\n",
    "X, y = make_regression(n_samples=100, n_features=20, noise=0.95, effective_rank=1)\n",
    "df = pd.DataFrame(X)\n",
    "df.head()"
   ]
  },
  {
   "cell_type": "markdown",
   "metadata": {
    "nbpresent": {
     "id": "e6ce378d-dbff-46b1-99c3-77e18891ee1b"
    }
   },
   "source": [
    "### Results on dataset with high multicollinearity "
   ]
  },
  {
   "cell_type": "code",
   "execution_count": 8,
   "metadata": {
    "nbpresent": {
     "id": "c7660cf5-ec2d-43a3-92a6-86bd5159cb08"
    }
   },
   "outputs": [
    {
     "name": "stdout",
     "output_type": "stream",
     "text": [
      "Mean: 0.9508621921561105\n",
      "Values: [0.92019811 0.94449363 0.98850286 0.96867241 0.95279599 0.94459741\n",
      " 0.93774898 0.92667373 0.94236117 0.98257764]\n"
     ]
    }
   ],
   "source": [
    "# Cross Validation will fit the classifier N number of times\n",
    "# and display the accuracies\n",
    "cv = cross_val_score(LinearRegression(), X, y, cv=10)\n",
    "print(\"Mean: {}\".format(cv.mean()))\n"
   ]
  },
  {
   "cell_type": "markdown",
   "metadata": {
    "nbpresent": {
     "id": "abb5adfc-c10a-49d3-85d3-10bae74cb33b"
    }
   },
   "source": [
    "<p>&copy; 2018 Stacklabs<p>\n"
   ]
  }
 ],
 "metadata": {
  "anaconda-cloud": {},
  "kernelspec": {
   "display_name": "Python 3",
   "language": "python",
   "name": "python3"
  },
  "language_info": {
   "codemirror_mode": {
    "name": "ipython",
    "version": 3
   },
   "file_extension": ".py",
   "mimetype": "text/x-python",
   "name": "python",
   "nbconvert_exporter": "python",
   "pygments_lexer": "ipython3",
   "version": "3.6.5"
  },
  "nbpresent": {
   "slides": {
    "009f09fb-9b67-4b76-89d3-7ea45b9ef01a": {
     "id": "009f09fb-9b67-4b76-89d3-7ea45b9ef01a",
     "prev": "728a638f-f6c1-44a8-b9a3-12a2e69b987c",
     "regions": {
      "6d447400-de92-4395-949d-b4d894fe53f4": {
       "attrs": {
        "height": 0.8,
        "width": 0.8,
        "x": 0.1,
        "y": 0.1
       },
       "content": {
        "cell": "c05a93bc-30ac-466d-834f-d9c358572f70",
        "part": "whole"
       },
       "id": "6d447400-de92-4395-949d-b4d894fe53f4"
      }
     }
    },
    "5dbc0023-f238-4b80-925e-3eeadf625eea": {
     "id": "5dbc0023-f238-4b80-925e-3eeadf625eea",
     "prev": "009f09fb-9b67-4b76-89d3-7ea45b9ef01a",
     "regions": {
      "7291ffcd-f4cf-4324-96c9-0c7b88f47fcd": {
       "attrs": {
        "height": 0.8,
        "width": 0.8,
        "x": 0.1,
        "y": 0.1
       },
       "content": {
        "cell": "b5e4ee25-b9b2-4e8b-ac5f-da8da9f5cb95",
        "part": "whole"
       },
       "id": "7291ffcd-f4cf-4324-96c9-0c7b88f47fcd"
      }
     }
    },
    "67eaeec6-4a3d-44ae-933b-c3bbc2dcdf1d": {
     "id": "67eaeec6-4a3d-44ae-933b-c3bbc2dcdf1d",
     "prev": "e390c96c-7f31-4b26-9fa3-821ccfbfc406",
     "regions": {
      "10cbe3a3-db4d-401c-b649-e8b5213f983a": {
       "attrs": {
        "height": 0.8,
        "width": 0.8,
        "x": 0.1,
        "y": 0.1
       },
       "content": {
        "cell": "abb5adfc-c10a-49d3-85d3-10bae74cb33b",
        "part": "whole"
       },
       "id": "10cbe3a3-db4d-401c-b649-e8b5213f983a"
      }
     }
    },
    "728a638f-f6c1-44a8-b9a3-12a2e69b987c": {
     "id": "728a638f-f6c1-44a8-b9a3-12a2e69b987c",
     "prev": "ee8d6ed7-9d98-4444-8e65-61a1800c6c60",
     "regions": {
      "eca15f5a-2a6e-404f-9115-9bef612ac50c": {
       "attrs": {
        "height": 0.8,
        "width": 0.8,
        "x": 0.1,
        "y": 0.1
       },
       "content": {
        "cell": "b3febd39-abda-4a7b-a1f5-3b88c4c79de1",
        "part": "whole"
       },
       "id": "eca15f5a-2a6e-404f-9115-9bef612ac50c"
      }
     }
    },
    "7e24001b-a1d3-43ca-894e-b0a26a78671a": {
     "id": "7e24001b-a1d3-43ca-894e-b0a26a78671a",
     "prev": "89322f7d-d683-4a24-aff7-8d3ffc172072",
     "regions": {
      "41b6488b-d8aa-402b-91a9-fe7cbc8bc560": {
       "attrs": {
        "height": 0.8,
        "width": 0.8,
        "x": 0.1,
        "y": 0.1
       },
       "content": {
        "cell": "e6ce378d-dbff-46b1-99c3-77e18891ee1b",
        "part": "whole"
       },
       "id": "41b6488b-d8aa-402b-91a9-fe7cbc8bc560"
      }
     }
    },
    "89322f7d-d683-4a24-aff7-8d3ffc172072": {
     "id": "89322f7d-d683-4a24-aff7-8d3ffc172072",
     "prev": "5dbc0023-f238-4b80-925e-3eeadf625eea",
     "regions": {
      "2aa358c0-9c63-44c9-95b0-68d5f8097a6e": {
       "attrs": {
        "height": 0.8,
        "width": 0.8,
        "x": 0.1,
        "y": 0.1
       },
       "content": {
        "cell": "921bad8d-59a3-4d6e-b2dc-ef6e8bcb24bb",
        "part": "whole"
       },
       "id": "2aa358c0-9c63-44c9-95b0-68d5f8097a6e"
      }
     }
    },
    "e390c96c-7f31-4b26-9fa3-821ccfbfc406": {
     "id": "e390c96c-7f31-4b26-9fa3-821ccfbfc406",
     "prev": "7e24001b-a1d3-43ca-894e-b0a26a78671a",
     "regions": {
      "cdbfcf77-00d1-4f43-b0db-037e37e39df6": {
       "attrs": {
        "height": 0.8,
        "width": 0.8,
        "x": 0.1,
        "y": 0.1
       },
       "content": {
        "cell": "c7660cf5-ec2d-43a3-92a6-86bd5159cb08",
        "part": "whole"
       },
       "id": "cdbfcf77-00d1-4f43-b0db-037e37e39df6"
      }
     }
    },
    "ee8d6ed7-9d98-4444-8e65-61a1800c6c60": {
     "id": "ee8d6ed7-9d98-4444-8e65-61a1800c6c60",
     "prev": null,
     "regions": {
      "ea96c8e7-69d9-459c-b7b4-2593f0139943": {
       "attrs": {
        "height": 0.8,
        "width": 0.8,
        "x": 0.1,
        "y": 0.1
       },
       "content": {
        "cell": "9e327d62-efa8-42da-a466-3807c60e7b68",
        "part": "whole"
       },
       "id": "ea96c8e7-69d9-459c-b7b4-2593f0139943"
      }
     }
    }
   },
   "themes": {}
  }
 },
 "nbformat": 4,
 "nbformat_minor": 2
}
