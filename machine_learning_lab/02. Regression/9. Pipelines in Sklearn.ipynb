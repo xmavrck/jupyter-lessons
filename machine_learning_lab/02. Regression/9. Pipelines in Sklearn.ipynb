{
 "cells": [
  {
   "cell_type": "markdown",
   "metadata": {},
   "source": [
    "<img src=\"../logo.png\",width=200,height=60>\n"
   ]
  },
  {
   "cell_type": "markdown",
   "metadata": {},
   "source": [
    "## Pipelines\n",
    "\n",
    "Pipelines in Sklearn offer a convenient way of building models. Imagine the standard way of building the model: Imuting using Imputer, then PCA, then building model and then prediction. Instead of making it in steps, all of them can be combined using Pipeline. "
   ]
  },
  {
   "cell_type": "code",
   "execution_count": 12,
   "metadata": {
    "collapsed": true
   },
   "outputs": [],
   "source": [
    "import numpy as np\n",
    "\n",
    "from sklearn.pipeline import Pipeline\n",
    "from sklearn.datasets import make_regression\n",
    "from sklearn.decomposition import PCA\n",
    "from sklearn.preprocessing import Imputer, StandardScaler\n",
    "from sklearn.svm import SVR\n",
    "\n",
    "n_features = 10\n",
    "X, y = make_regression(n_informative=5, n_features=n_features)"
   ]
  },
  {
   "cell_type": "code",
   "execution_count": 13,
   "metadata": {},
   "outputs": [
    {
     "name": "stdout",
     "output_type": "stream",
     "text": [
      "X[33][8] = np.nan\n",
      "X[52][7] = np.nan\n",
      "X[97][3] = np.nan\n",
      "X[6][1] = np.nan\n",
      "X[29][0] = np.nan\n",
      "X[78][8] = np.nan\n",
      "X[52][2] = np.nan\n",
      "X[60][0] = np.nan\n",
      "X[25][6] = np.nan\n",
      "X[84][6] = np.nan\n",
      "X[94][5] = np.nan\n",
      "X[90][2] = np.nan\n",
      "X[45][5] = np.nan\n",
      "X[60][0] = np.nan\n",
      "X[60][3] = np.nan\n",
      "X[70][4] = np.nan\n",
      "X[76][5] = np.nan\n",
      "X[68][9] = np.nan\n",
      "X[37][7] = np.nan\n",
      "X[3][9] = np.nan\n"
     ]
    }
   ],
   "source": [
    "# randomly put nans in X\n",
    "for rand_row in [np.random.randint(100) for x in range(20)]:\n",
    "    rand_col = np.random.randint(n_features) \n",
    "    X[rand_row][rand_col] = np.nan\n",
    "    print(\"X[{0}][{1}] = np.nan\".format(rand_row, rand_col))"
   ]
  },
  {
   "cell_type": "code",
   "execution_count": 14,
   "metadata": {},
   "outputs": [
    {
     "data": {
      "text/plain": [
       "[('Imputer',\n",
       "  Imputer(axis=0, copy=True, missing_values='NaN', strategy='mean', verbose=0)),\n",
       " ('Scaler', StandardScaler(copy=True, with_mean=True, with_std=True)),\n",
       " ('PCA',\n",
       "  PCA(copy=True, iterated_power='auto', n_components=6, random_state=None,\n",
       "    svd_solver='auto', tol=0.0, whiten=False)),\n",
       " ('SVM',\n",
       "  SVR(C=1.0, cache_size=200, coef0=0.0, degree=3, epsilon=0.1, gamma='auto',\n",
       "    kernel='rbf', max_iter=-1, shrinking=True, tol=0.001, verbose=False))]"
      ]
     },
     "execution_count": 14,
     "metadata": {},
     "output_type": "execute_result"
    }
   ],
   "source": [
    "pipe = Pipeline([(\"Imputer\", Imputer(strategy=\"mean\")), (\"Scaler\", StandardScaler()), \n",
    "                 (\"PCA\", PCA(n_components=6)), (\"SVM\", SVR())])\n",
    "pipe.steps\n",
    "# lists all the steps in pipeline"
   ]
  },
  {
   "cell_type": "code",
   "execution_count": 15,
   "metadata": {
    "collapsed": true
   },
   "outputs": [],
   "source": [
    "from sklearn.model_selection import train_test_split\n",
    "from sklearn.metrics import accuracy_score\n",
    "X_train, X_test, y_train, y_test = train_test_split(X, y, test_size=0.2)"
   ]
  },
  {
   "cell_type": "code",
   "execution_count": 16,
   "metadata": {
    "collapsed": true
   },
   "outputs": [],
   "source": [
    "pipe.fit(X_train, y_train)\n",
    "y_pred = pipe.predict(X_test)"
   ]
  },
  {
   "cell_type": "markdown",
   "metadata": {},
   "source": [
    "<p>&copy; 2018 Stacklabs<p>\n"
   ]
  }
 ],
 "metadata": {
  "kernelspec": {
   "display_name": "Python 3",
   "language": "python",
   "name": "python3"
  },
  "language_info": {
   "codemirror_mode": {
    "name": "ipython",
    "version": 3
   },
   "file_extension": ".py",
   "mimetype": "text/x-python",
   "name": "python",
   "nbconvert_exporter": "python",
   "pygments_lexer": "ipython3",
   "version": "3.6.3"
  }
 },
 "nbformat": 4,
 "nbformat_minor": 2
}
