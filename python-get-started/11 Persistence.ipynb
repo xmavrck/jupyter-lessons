{
 "cells": [
  {
   "cell_type": "markdown",
   "metadata": {},
   "source": [
    "<img src=\"./logo.png\" alt=\"Drawing\" style=\"width: 200px;\"/>"
   ]
  },
  {
   "cell_type": "markdown",
   "metadata": {},
   "source": [
    "# Persistence"
   ]
  },
  {
   "cell_type": "markdown",
   "metadata": {},
   "source": [
    "In this notebook, our focus is on **persistent data** — the kind that outlives a program that creates it. \n",
    "\n",
    "That’s not true by default for objects a script constructs, of course; things like lists, dictionaries, and even class instance objects live in your computer’s memory and are lost as soon as the script ends. \n",
    "\n",
    "To make data live longer, we need to do something special. \n",
    "\n",
    "In Python there are (at least) five *traditional* ways to save information in between program executions:\n",
    "\n",
    "* *Flat files*\n",
    "    * Text and bytes stored directly on your computer\n",
    "    \n",
    "* *DBM keyed files*\n",
    "    * Keyed access to strings stored in dictionary-like files\n",
    "    \n",
    "* *Pickled objects*\n",
    "    * Pickled objects \n",
    "    \n",
    "* *Shelve files*\n",
    "    * Pickled Python objects saved in DBM keyed files\n",
    "\n",
    "* *SQL relational databases (RDBMSs)*\n",
    "    * Table-based storage that supports SQL queries (SQLite, MySQL, PostGreSQL, etc.)"
   ]
  },
  {
   "cell_type": "markdown",
   "metadata": {},
   "source": [
    "# SQL Database Interface"
   ]
  },
  {
   "cell_type": "markdown",
   "metadata": {},
   "source": [
    "For programs that can benefit from the power of SQL, Python also broadly supports relational database management systems (**RDBMSs**).\n",
    "\n",
    "The databases we’ll meet in this notebook, though, are structured and processed in very different ways:\n",
    "\n",
    "* They store data in related tables of columns (rather than in persistent dictionaries of arbitrarily structured persistent Python objects).\n",
    "\n",
    "* They support the SQL query language for accessing data and exploiting relation- ships among it (instead of Python object traversals).\n",
    "\n",
    "For some applications, the end result can be a potent combination. Moreover, some SQL-based database systems provide industrial-strength persistence support for enterprise-level data."
   ]
  },
  {
   "cell_type": "markdown",
   "metadata": {},
   "source": [
    "## Python Modules"
   ]
  },
  {
   "cell_type": "markdown",
   "metadata": {},
   "source": [
    "Today, there are freely available interfaces that let Python scripts utilize all common relational database systems, both free and commercial: MySQL, Oracle, Sybase, Informix, InterBase, PostgreSQL (Postgres), SQLite, ODBC, and more.\n",
    "\n",
    "In addition, the Python community has defined a **database API** (*aka* `DB API`) specification that works portably with a variety of underlying database packages. \n",
    "\n",
    "Scripts written for this API can be migrated to different database vendor packages, with minimal or no source code changes.\n",
    "\n",
    "As of Python 2.5, Python itself includes built-in support for the SQLite relational database system as part of its standard library. \n",
    "\n",
    "Because this system supports the portable database API, it serves as a tool for both program storage and prototyping—systems developed with SQLite work largely unchanged when a more feature-rich database such as MySQL or Oracle is deployed.\n",
    "\n",
    "Moreover, the popular `SQLObject` and `SQLAlchemy` third-party systems both provide an **Object Relational Mapper (ORM)**, which grafts an object interface onto your database, in which tables are modeled by as Python classes, rows by instances of those classes, and columns by instance attributes. "
   ]
  },
  {
   "cell_type": "markdown",
   "metadata": {},
   "source": [
    "## Python SQL Interface"
   ]
  },
  {
   "cell_type": "markdown",
   "metadata": {},
   "source": [
    "The **Python Database API** (DB API) specification defines an interface for communicating with underlying database systems from Python scripts. \n",
    "\n",
    "Vendor-specific database interfaces for Python may or may not conform to this API completely, but all database extensions for Python in common use are minor variations on a theme. \n",
    "\n",
    "Under the database API, SQL databases in Python are grounded on three core concepts:\n",
    "\n",
    "* **Connection Objects**:\n",
    "    > Represent a connection to a database, are the interface to rollback and commit operations, provide package implementation details, and generate cursor objects.\n",
    "    \n",
    "* **Cursor Objects**:\n",
    "    > Represent an SQL statement submitted as a string and can be used to access and step through SQL statement results.\n",
    "    \n",
    "* **Query results of SQL select statements**:\n",
    "    > Are returned to scripts as Python sequences of sequences (e.g., a *list of tuples*), representing database tables of rows. Within these row sequences, column field values are normal Python objects such as strings, integers, and floats (e.g., `[('bob', 48), ('emily',47)]`). Column values may also be special types that encapsulate things such as date and time, and database `NULL` values are returned as the Python `None` object."
   ]
  },
  {
   "cell_type": "markdown",
   "metadata": {},
   "source": [
    "### Connection Objects"
   ]
  },
  {
   "cell_type": "markdown",
   "metadata": {},
   "source": [
    "Beyond this, the API defines a standard set of database exception types, special database type object constructors, and informational top-level calls including thread safety and replacement style checks.\n",
    "\n",
    "For instance, to establish a database connection under the Python API-compliant **Oracle** interface, install the commonly used Python Oracle extension module (i.e. `pip install cx_oracle`) as well as Oracle itself, and then run a statement of this form:\n",
    "\n",
    "```python\n",
    "    connobj = connect(\"user/password@system\")\n",
    "```"
   ]
  },
  {
   "cell_type": "markdown",
   "metadata": {},
   "source": [
    "This call’s arguments may vary per database and vendor (e.g., some may require network details or a local file’s name), but they generally contain what you provide to log in to your database system. \n",
    "\n",
    "Once you have a connection object, there a variety of things you can do with it, including:\n",
    "\n",
    "```python\n",
    "    connobj.close()     # close connection now (not at object __del__ time)\n",
    "    connobj.commit()    # commit any pending transactions to the database \n",
    "    connobj.rollback()  # roll database back to start of pending transactions\n",
    "```"
   ]
  },
  {
   "cell_type": "markdown",
   "metadata": {},
   "source": [
    "### Cursor Objects"
   ]
  },
  {
   "cell_type": "markdown",
   "metadata": {},
   "source": [
    "But one of the most useful things to do with a connection object is to generate a cursor object:\n",
    "\n",
    "```python\n",
    "    cursobj = connobj.cursor()  # return a new cursor object for running SQL\n",
    "```\n",
    "\n",
    "Cursor objects have a set of methods, too (e.g., close to close the cursor before its destructor runs, and callproc to call a stored procedure), but the most important may be this one:\n",
    "\n",
    "```python\n",
    "    cursobj.execute(sqlstring [, parameters])  # run SQL query or command string\n",
    "```\n"
   ]
  },
  {
   "cell_type": "markdown",
   "metadata": {},
   "source": [
    "Parameters are passed in as a sequence or mapping of values, and are substituted into the `SQL` statement string according to the interface module’s replacement target conventions. \n",
    "\n",
    "The execute method can be used to run a variety of `SQL` statement strings:\n",
    "\n",
    "* DDL definition statements (e.g., `CREATE TABLE`);\n",
    "* DML modification statements (e.g., `UPDATE` or `INSERT`);\n",
    "* DQL query statements (e.g., `SELECT`)\n",
    "\n",
    "After running an SQL statement, the cursor’s `rowcount` attribute gives the number of rows *changed* (for **DML** changes) or *fetched* (for **DQL** queries), and the cursor’s `description` attribute gives column names and types after a query; \n",
    "`execute` also returns the number of rows affected or fetched in the most vendor interfaces. \n",
    "\n",
    "For **DQL** query statements, you must call one of the `fetch` methods to complete the operation:\n",
    "\n",
    "```python\n",
    "    single_tuple = cursobj.fetchone()          # fetch next row of a query result \n",
    "    list_of_tuple = cursobj.fetchmany([size])  # fetch next set of rows of query result\n",
    "    list_of_tuple = cursobj.fetchall()         # fetch all remaining rows of the result\n",
    "```"
   ]
  },
  {
   "cell_type": "markdown",
   "metadata": {},
   "source": [
    "And once you’ve received fetch method results, table information is processed using normal Python sequence operations; for example, you can step through the tuples in a `fetchall` result list with a simple for loop or comprehension expression. \n",
    "\n",
    "Most Python database interfaces also allow you to provide values to be passed to `SQL` statement strings, by providing targets and a tuple of parameters. For instance:\n",
    "\n",
    "```python\n",
    "\n",
    "query = 'SELECT name, shoesize FROM spam WHERE job = ? AND age = ?' \n",
    "cursobj.execute(query, (value1, value2))\n",
    "results = cursobj.fetchall()\n",
    "for row in results: \n",
    "    pass  # do something\n",
    "    \n",
    "```"
   ]
  },
  {
   "cell_type": "markdown",
   "metadata": {},
   "source": [
    "In this event, the database interface utilizes *prepared statements* (an optimization and convenience) and correctly passes the parameters to the database regardless of their Python types. \n",
    "\n",
    "The notation used to code targets in the query string may vary in some database interfaces (e.g., `:p1` and `:p2` or two `%s`, rather than the two `?s` used by the **Oracle interface**); in any event, this is not the same as Python’s \n",
    "`%` string formatting operator, as it sidesteps security issues along the way.\n",
    "\n",
    "Finally, if your database supports stored procedures, you can call them with the `callproc` method or by passing an `SQL CALL` or `EXEC` statement string to the execute method. \n",
    "\n",
    "`callproc` may generate a result table retrieved with a `fetch` variant, and returns a modified copy of the input sequence — input parameters are left untouched, and output and input/output parameters are replaced with possibly new values. \n",
    "\n",
    "Additional API features, including support for database `blobs` (roughly, with sized results), is described in the API’s documentation. \n",
    "\n",
    "For now, let’s move on to do some real SQL processing in Python."
   ]
  },
  {
   "cell_type": "markdown",
   "metadata": {},
   "source": [
    "## An SQL Database API Tutorial with SQLite"
   ]
  },
  {
   "cell_type": "markdown",
   "metadata": {},
   "source": [
    "We don’t have space to provide an exhaustive reference for the database API in this notebook. \n",
    "\n",
    "To sample the flavor of the interface, though, let’s step through a few simple examples. \n",
    "\n",
    "We’ll use the **SQLite** database system for this tutorial. \n",
    "\n",
    "SQLite is a standard part of Python itself, which you can reasonably expect to be available in all Python installations. Although SQLite implements a complete relational database system, it takes the form of an in-process library instead of a server. \n",
    "\n",
    "This generally makes it better suited for program storage than for enterprise-level data needs."
   ]
  },
  {
   "cell_type": "markdown",
   "metadata": {},
   "source": [
    "### Note:\n",
    "\n",
    "Thanks to Python’s portable DB API, though, other popular database packages such as **PostgreSQL, MySQL, and Oracle** are used almost identically; the initial call to log in to the database will be all that normally requires different argument values for scripts that use standard SQL code. \n",
    "\n",
    "Because of this, we can use the SQLite system both as a prototyping tool in applications development and as an easy way to get started with the Python SQL database API in this book.\n"
   ]
  },
  {
   "cell_type": "markdown",
   "metadata": {},
   "source": [
    "## Getting Started"
   ]
  },
  {
   "cell_type": "markdown",
   "metadata": {},
   "source": [
    "Regardless of which database system your scripts talk to, the basic SQL interface in Python is very simple. \n",
    "\n",
    "In fact, it’s hardly object-oriented at all queries and other database commands are sent as strings of SQL. \n",
    "\n",
    "Whether large or small, though, the Python code needed to process your database turns out to be surprisingly straightforward. \n",
    "\n",
    "To get started, the first thing we need to do is open a connection to the database and create a table for storing records:"
   ]
  },
  {
   "cell_type": "code",
   "execution_count": 26,
   "metadata": {},
   "outputs": [],
   "source": [
    "import sqlite3\n",
    "conn = sqlite3.connect('data/dbase1')"
   ]
  },
  {
   "cell_type": "markdown",
   "metadata": {},
   "source": [
    "We start out by importing the Python SQLite interface here— it’s a standard library module called `sqlite3` to our scripts. \n",
    "\n",
    "Next we create a **connection** object, passing in the items our database requires at start-up time—here, the name of the local file where our databases will be stored. \n",
    "\n",
    "This file is what you’ll want to back up to save your database. It will create the file if needed, or open its current content; SQLite also accepts that special string `:memory:` to create a temporary database in memory instead."
   ]
  },
  {
   "cell_type": "markdown",
   "metadata": {},
   "source": [
    "As long as a script sticks to using standard SQL code, the connect call’s arguments are usually the only thing that can vary across different database systems. \n",
    "\n",
    "For example, in the MySQL interface this call accepts a network host’s domain name, user name, and password, passed as keyword arguments instead, and the **Oracle example** sketched earlier expects a more specific sting syntax. \n",
    "\n",
    "Once we’ve gotten past this platform-specific call, though, the rest of the API is largely database **neutral**.\n",
    "\n",
    "\n",
    "# Making Database and Tables\n",
    "Next, let’s make a cursor for submitting SQL statements to the database server, and submit one to create a first table:\n"
   ]
  },
  {
   "cell_type": "code",
   "execution_count": 27,
   "metadata": {},
   "outputs": [
    {
     "data": {
      "text/plain": [
       "<sqlite3.Cursor at 0x7f2d3a77c030>"
      ]
     },
     "execution_count": 27,
     "metadata": {},
     "output_type": "execute_result"
    }
   ],
   "source": [
    "curs = conn.cursor()\n",
    "try:\n",
    "    curs.execute('drop table people')\n",
    "except:\n",
    "    pass  # did not exist\n",
    "curs.execute('create table people (name char(30), job char(10), pay int(4))')"
   ]
  },
  {
   "cell_type": "code",
   "execution_count": null,
   "metadata": {},
   "outputs": [],
   "source": []
  },
  {
   "cell_type": "markdown",
   "metadata": {},
   "source": [
    "# <center> Json Parsing </center>"
   ]
  },
  {
   "cell_type": "markdown",
   "metadata": {},
   "source": [
    "Before starting with the Python’s json module, we will at first discuss about JSON data.\n",
    "\n",
    "The abbreviation of JSON is JavaScript Object Notation.\n",
    "\n",
    "JSON is an open-standard file format that uses human-readable text to transmit data objects consisting of attribute–value pairs and array data types (or any other serializable value).\n",
    "\n",
    "JSON a very common data format used for asynchronous browser/server communication. The Syntax rules for JSON is given below:"
   ]
  },
  {
   "cell_type": "markdown",
   "metadata": {},
   "source": [
    "<ol> \n",
    "    <li> The data is simply a name value pair </li>\n",
    " <li> Data/Object/arrays are separated by comma </li>\n",
    " <li>Curly braces hold object</li>\n",
    " <li>Square holds array</li>\n",
    "</ol>"
   ]
  },
  {
   "cell_type": "markdown",
   "metadata": {},
   "source": [
    "# Python json dumps\n",
    "In this section we will learn how to convert python data to JSON data. The task is very simple. At first import json module. Then use json.dumps() function to decode the json data. Below is a simple example for python json dumps function.\n",
    "\n"
   ]
  },
  {
   "cell_type": "code",
   "execution_count": 28,
   "metadata": {},
   "outputs": [
    {
     "name": "stdout",
     "output_type": "stream",
     "text": [
      "String : \"normal string\"\n",
      "Integer : 1\n",
      "Float : 1.5\n",
      "List : [\"normal string\", 1, 1.5]\n",
      "Nested List : [\n",
      "  1,\n",
      "  1.5,\n",
      "  [\n",
      "    \"normal string\",\n",
      "    1,\n",
      "    1.5\n",
      "  ]\n",
      "]\n",
      "Dictionary : {\n",
      "  \"int\": 1,\n",
      "  \"str\": \"normal string\",\n",
      "  \"float\": 1.5,\n",
      "  \"list\": [\n",
      "    \"normal string\",\n",
      "    1,\n",
      "    1.5\n",
      "  ],\n",
      "  \"nested list\": [\n",
      "    1,\n",
      "    1.5,\n",
      "    [\n",
      "      \"normal string\",\n",
      "      1,\n",
      "      1.5\n",
      "    ]\n",
      "  ]\n",
      "}\n"
     ]
    }
   ],
   "source": [
    "import json\n",
    "\n",
    "# initialize different data\n",
    "str_data = 'normal string'\n",
    "int_data = 1\n",
    "float_data = 1.50\n",
    "list_data = [str_data, int_data, float_data]\n",
    "nested_list = [int_data, float_data, list_data]\n",
    "dictionary = {\n",
    "    'int': int_data,\n",
    "    'str': str_data,\n",
    "    'float': float_data,\n",
    "    'list': list_data,\n",
    "    'nested list': nested_list\n",
    "}\n",
    "\n",
    "# convert them to JSON data and then print it\n",
    "print('String :', json.dumps(str_data))\n",
    "print('Integer :', json.dumps(int_data))\n",
    "print('Float :', json.dumps(float_data))\n",
    "print('List :', json.dumps(list_data))\n",
    "print('Nested List :', json.dumps(nested_list, indent=2))\n",
    "print('Dictionary :', json.dumps(dictionary, indent=2))  # the json data will be indented"
   ]
  },
  {
   "cell_type": "markdown",
   "metadata": {},
   "source": [
    "# Python JSON pretty print\n",
    "As you can see in above example, for json pretty print we have to pass an extra variable ‘indent’ to the json dumps function. For example json.dumps(nested_list, indent=2)."
   ]
  },
  {
   "cell_type": "code",
   "execution_count": 29,
   "metadata": {},
   "outputs": [
    {
     "name": "stdout",
     "output_type": "stream",
     "text": [
      "arrayJson to list_data :\n",
      " [1, 1.5, ['normal string', 1, 1.5]]\n",
      "\n",
      "Accessing the list data :\n",
      "list_data[2:] = [['normal string', 1, 1.5]]\n",
      "list_data[:1] = [1]\n",
      "\n",
      "objectJson to dictionary :\n",
      " {'a': 1, 'b': 1.5, 'c': ['normal string', 1, 1.5]}\n",
      "\n",
      "Accessing the dictionary :\n",
      "dictionary['a'] = 1\n",
      "dictionary['c'] = ['normal string', 1, 1.5]\n"
     ]
    }
   ],
   "source": [
    "import json\n",
    "\n",
    "# initialize different JSON data\n",
    "arrayJson = '[1, 1.5, [\"normal string\", 1, 1.5]]'\n",
    "objectJson = '{\"a\":1, \"b\":1.5 , \"c\":[\"normal string\", 1, 1.5]}'\n",
    "\n",
    "# convert them to Python Data\n",
    "list_data = json.loads(arrayJson)\n",
    "dictionary = json.loads(objectJson)\n",
    "\n",
    "print('arrayJson to list_data :\\n', list_data)\n",
    "print('\\nAccessing the list data :')\n",
    "print('list_data[2:] =', list_data[2:])\n",
    "print('list_data[:1] =', list_data[:1])\n",
    "\n",
    "print('\\nobjectJson to dictionary :\\n', dictionary)\n",
    "print('\\nAccessing the dictionary :')\n",
    "print('dictionary[\\'a\\'] =', dictionary['a'])\n",
    "print('dictionary[\\'c\\'] =', dictionary['c'])\n"
   ]
  },
  {
   "cell_type": "markdown",
   "metadata": {},
   "source": [
    "# Python Object to JSON Data Conversion"
   ]
  },
  {
   "cell_type": "markdown",
   "metadata": {},
   "source": [
    "In the previous two sections you may have noticed that Python List is converted into JSONArray data and Python Dictionary becomes the JSONObject. So which Python object is converted into JSON object by default is shown in the below table."
   ]
  },
  {
   "cell_type": "markdown",
   "metadata": {},
   "source": [
    "|PYTHON | JSON |\n",
    "| --- | --- |\n",
    "|dict | object |\n",
    "|list, tuple| array|\n",
    "|str |string|\n",
    "|int, float, int- & float-derived Enums|number|\n",
    "|True|true|\n",
    "|False|false|\n",
    "|None |null|\n"
   ]
  },
  {
   "cell_type": "markdown",
   "metadata": {},
   "source": [
    "Also, if you convert a JSONArray, you will get Python List. So, there is also some rules about this. So the following tables shows type of JSON data that are converted into Python Data."
   ]
  },
  {
   "cell_type": "markdown",
   "metadata": {},
   "source": [
    "So, that’s all about Python JSON module, python parse json examples. For any further query, please feel free to ask"
   ]
  }
 ],
 "metadata": {
  "kernelspec": {
   "display_name": "Python 3",
   "language": "python",
   "name": "python3"
  },
  "language_info": {
   "codemirror_mode": {
    "name": "ipython",
    "version": 3
   },
   "file_extension": ".py",
   "mimetype": "text/x-python",
   "name": "python",
   "nbconvert_exporter": "python",
   "pygments_lexer": "ipython3",
   "version": "3.6.5"
  }
 },
 "nbformat": 4,
 "nbformat_minor": 1
}
