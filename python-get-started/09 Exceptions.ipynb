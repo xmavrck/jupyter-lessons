{
 "cells": [
  {
   "cell_type": "markdown",
   "metadata": {},
   "source": [
    "<img src=\"./logo.png\" alt=\"Drawing\" style=\"width: 200px;\"/>"
   ]
  },
  {
   "cell_type": "markdown",
   "metadata": {},
   "source": [
    "# Exceptions"
   ]
  },
  {
   "cell_type": "markdown",
   "metadata": {},
   "source": [
    "Exceptions which are events that can modify the *flow* of control through a program. \n",
    "\n",
    "In Python, exceptions are triggered automatically on errors, and they can be triggered and intercepted by your code.\n",
    "\n",
    "They are processed by **four** statements we’ll study in this notebook, the first of which has two variations (listed separately here) and the last of which was an optional extension until Python 2.6 and 3.0:\n",
    "\n",
    "* `try/except`:\n",
    "    * Catch and recover from exceptions raised by Python, or by you\n",
    "    \n",
    "* `try/finally`:\n",
    "    * Perform cleanup actions, whether exceptions occur or not.\n",
    "\n",
    "* `raise`:\n",
    "    * Trigger an exception manually in your code.\n",
    "    \n",
    "* `assert`:\n",
    "    * Conditionally trigger an exception in your code.\n",
    "    \n",
    "* `with/as`:\n",
    "    * Implement context managers in Python 2.6, 3.0, and later (optional in 2.5)."
   ]
  },
  {
   "cell_type": "markdown",
   "metadata": {},
   "source": [
    "# `try/except` Statement"
   ]
  },
  {
   "cell_type": "markdown",
   "metadata": {},
   "source": [
    "```\n",
    "try:\n",
    "    statements           # Run this main action first\n",
    "except name1:       \n",
    "  # Run if name1 is raised during try block\n",
    "    statements\n",
    "except (name2, name3):   \n",
    "   # Run if any of these exceptions occur\n",
    "    statements \n",
    "except name4 as var:     \n",
    "     # Run if name4 is raised, assign instance raised to var \n",
    "    statements\n",
    "except:                  # Run for all other exceptions raised\n",
    "    statements\n",
    "else:\n",
    "    statements           # Run if no exception was raised during try block\n",
    "```"
   ]
  },
  {
   "cell_type": "code",
   "execution_count": 1,
   "metadata": {
    "scrolled": true
   },
   "outputs": [
    {
     "name": "stdout",
     "output_type": "stream",
     "text": [
      "[1, 2, 3, 4, 5, 6, 7, 8, 9, 10, 11, 12, 13, 14, 15, 16, 17, 18, 19, 20, 21, 22, 23, 24, 25, 26, 27, 28, 29, 30, 31, 32, 33, 34, 35, 36, 37, 38, 39, 40, 41, 42, 43, 44, 45, 46, 47, 48, 49, 50, 51, 52, 53, 54, 55, 56, 57, 58, 59, 60, 61, 62, 63, 64, 65, 66, 67, 68, 69, 70, 71, 72, 73, 74, 75, 76, 77, 78, 79, 80, 81, 82, 83, 84, 85, 86, 87, 88, 89, 90, 91, 92, 93, 94, 95, 96, 97, 98, 99]\n"
     ]
    }
   ],
   "source": [
    "list_of_numbers = [number for number in range(1, 100)]\n",
    "print(list_of_numbers)"
   ]
  },
  {
   "cell_type": "code",
   "execution_count": 10,
   "metadata": {},
   "outputs": [
    {
     "name": "stdout",
     "output_type": "stream",
     "text": [
      "Getting number at position 1 : 1\n",
      "Cleaning UP\n"
     ]
    }
   ],
   "source": [
    "dictionary_of_numbers = {}\n",
    "for number in list_of_numbers:\n",
    "    dictionary_of_numbers[number**2] = number\n",
    "    \n",
    "try:\n",
    "    index = list_of_numbers.index(2)\n",
    "    value = dictionary_of_numbers[index]\n",
    "except (ValueError, KeyError):\n",
    "    print('Error Raised, but Controlled! ')\n",
    "else: \n",
    "    # This executes ONLY if no exception is raised\n",
    "    print('Getting number at position %d : %d' % (index, value))\n",
    "finally:\n",
    "    # Do cleanup operations\n",
    "    print('Cleaning UP')"
   ]
  },
  {
   "cell_type": "markdown",
   "metadata": {},
   "source": [
    "# `try/finally` Statement"
   ]
  },
  {
   "cell_type": "markdown",
   "metadata": {},
   "source": [
    "The other flavor of the try statement is a specialization that has to do with finalization (a.k.a. termination) actions. If a finally clause is included in a try, Python will always run its block of statements “on the way out” of the try statement, whether an exception occurred while the try block was running or not. \n",
    "\n",
    "In it's general form, it is:\n",
    "\n",
    "```\n",
    "try:\n",
    "    statements # Run this action first \n",
    "finally:\n",
    "    statements # Always run this code on the way out\n",
    "```"
   ]
  },
  {
   "cell_type": "markdown",
   "metadata": {},
   "source": [
    "<a name=\"ctx\"></a>"
   ]
  },
  {
   "cell_type": "markdown",
   "metadata": {},
   "source": [
    "# `with/as` Context Managers"
   ]
  },
  {
   "cell_type": "markdown",
   "metadata": {},
   "source": [
    "Python 2.6 and 3.0 introduced a new exception-related statement—the with, and its optional as clause. This statement is designed to work with context manager objects, which support a new method-based protocol, similar in spirit to the way that iteration tools work with methods of the iteration protocol. "
   ]
  },
  {
   "cell_type": "markdown",
   "metadata": {},
   "source": [
    "## Context Manager Intro"
   ]
  },
  {
   "cell_type": "markdown",
   "metadata": {},
   "source": [
    "### Basic Usage:\n",
    "\n",
    "```\n",
    "with expression [as variable]: \n",
    "    with-block\n",
    "```"
   ]
  },
  {
   "cell_type": "markdown",
   "metadata": {},
   "source": [
    "### Classical Usage\n",
    "\n",
    "```python\n",
    "\n",
    "with open(r'C:\\misc\\data') as myfile: \n",
    "    for line in myfile:\n",
    "        print(line)\n",
    "    # ...more code here...\n",
    "```\n",
    "\n",
    "... even using multiple context managers:\n",
    "\n",
    "```python\n",
    "with open('script1.py') as f1, open('script2.py') as f2: \n",
    "    for (linenum, (line1, line2)) in enumerate(zip(f1, f2)):\n",
    "        if line1 != line2:\n",
    "            print('%s\\n%r\\n%r' % (linenum, line1, line2))\n",
    "```"
   ]
  },
  {
   "cell_type": "markdown",
   "metadata": {},
   "source": [
    "### How it works\n",
    "\n",
    "1. The expression is evaluated,resulting in an object known as a **context manager** that must have `__enter__` and `__exit__` methods\n",
    "\n",
    "2. The context manager’s `__enter__` method is called. The value it returns is assigned to the variable in the as clause if present, or simply discarded otherwise\n",
    "\n",
    "3. The code in the nested with block is executed.\n",
    "\n",
    "4. If the with block raises an exception, the `__exit__(type,value,traceback)` method is called with the exception details. These are the same three values returned by `sys.exc_info` (Python function). If this method returns a `false` value, the exception is **re-raised**; otherwise, the exception is terminated. The exception should normally be reraised so that it is propagated outside the with statement.\n",
    "\n",
    "5. If the with block does not raise an exception, the `__exit__` method is still called, but its type, value, and traceback arguments are all passed in as `None`."
   ]
  }
 ],
 "metadata": {
  "kernelspec": {
   "display_name": "Python 3",
   "language": "python",
   "name": "python3"
  },
  "language_info": {
   "codemirror_mode": {
    "name": "ipython",
    "version": 3
   },
   "file_extension": ".py",
   "mimetype": "text/x-python",
   "name": "python",
   "nbconvert_exporter": "python",
   "pygments_lexer": "ipython3",
   "version": "3.6.5"
  }
 },
 "nbformat": 4,
 "nbformat_minor": 1
}
